{
 "cells": [
  {
   "attachments": {},
   "cell_type": "markdown",
   "metadata": {},
   "source": [
    "## Get link\n",
    "\n",
    "Edit \"id\" and \"keywords\""
   ]
  },
  {
   "cell_type": "code",
   "execution_count": null,
   "metadata": {},
   "outputs": [],
   "source": [
    "from bs4 import BeautifulSoup\n",
    "from selenium import webdriver\n",
    "import chromedriver_binary\n",
    "\n",
    "driver = webdriver.Chrome()"
   ]
  },
  {
   "cell_type": "code",
   "execution_count": null,
   "metadata": {},
   "outputs": [],
   "source": [
    "#set id; all file's name is set by this id\n",
    "id = \"Mitsubishi\"\n",
    "\n",
    "link_file = \"Link/PantipLink_%s.txt\"%id"
   ]
  },
  {
   "cell_type": "code",
   "execution_count": null,
   "metadata": {},
   "outputs": [],
   "source": [
    "#keywords to get\n",
    "keywords = [\"Mitsubishi%20Motors\", \"Mitsubishi%20รถ\", \"มิตซูบิชิ%20รถ\", \"มิตซูบิชิ%20มอเตอร์ส\"]\n",
    "\n",
    "f = open(link_file, \"w\")\n",
    "\n",
    "for keyword in keywords:\n",
    "    #open page\n",
    "    search_url = \"https://pantip.com/search?q=%s\"%(keyword)\n",
    "    driver.get(search_url)\n",
    "\n",
    "    #scroll until no new sreads appear\n",
    "    while(True):\n",
    "        #scroll\n",
    "        driver.execute_script(\"window.scrollTo(0, document.body.scrollHeight);\")\n",
    "\n",
    "        #get page\n",
    "        html = driver.page_source\n",
    "        search_soup = BeautifulSoup(html, \"html.parser\")\n",
    "        loading_div = search_soup.find(\"div\", class_=\"loading\")\n",
    "        \n",
    "        #check if loading\n",
    "        if loading_div.get(\"style\") != \"display:\":\n",
    "            #loading stop\n",
    "            break\n",
    "    \n",
    "    #get all links; write to Link file\n",
    "    pt_list = search_soup.find_all(\"li\", class_=\"pt-list-item\")\n",
    "    for pt in pt_list:\n",
    "        target_url = pt.find(\"a\").get(\"href\")\n",
    "        if target_url != None:\n",
    "            f.write(target_url + \"\\n\")\n",
    "\n",
    "f.close()"
   ]
  }
 ],
 "metadata": {
  "kernelspec": {
   "display_name": "Python 3",
   "language": "python",
   "name": "python3"
  },
  "language_info": {
   "name": "python",
   "version": "3.11.0 (main, Oct 24 2022, 18:26:48) [MSC v.1933 64 bit (AMD64)]"
  },
  "orig_nbformat": 4,
  "vscode": {
   "interpreter": {
    "hash": "f18876ba008b8f03c8db473942efc120a13a06fe3a8b9090651dfef4dd2a9267"
   }
  }
 },
 "nbformat": 4,
 "nbformat_minor": 2
}
