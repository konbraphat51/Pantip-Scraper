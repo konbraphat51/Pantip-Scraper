{
 "cells": [
  {
   "attachments": {},
   "cell_type": "markdown",
   "metadata": {},
   "source": [
    "# Tokenize\n",
    "  \n",
    "Data format:  \n",
    "(time)(time_devider)(token1_text)(tag_devider)(token1_tag)(tag_devider)(token1_BIO)(token_devider)(token2_text)...  \n",
    "  \n",
    "Default:  \n",
    "(time)@@-(token1_text),@,(token1_tag),@,(token1_BIO)|@|(token2_text)...  "
   ]
  },
  {
   "attachments": {},
   "cell_type": "markdown",
   "metadata": {},
   "source": [
    "## Requirements  \n",
    "  \n",
    "* pip install pythainlp\n",
    "* pip install pythainlp[thai_ner]\n",
    "* pip install python-crfsuite"
   ]
  },
  {
   "cell_type": "code",
   "execution_count": null,
   "metadata": {},
   "outputs": [],
   "source": [
    "#from pythainlp import correct\n",
    "from pythainlp.tag import NER\n",
    "from pythainlp.util import normalize\n",
    "#from pythainlp.tokenize import word_tokenize\n",
    "from concurrent import futures\n",
    "from threading import Lock"
   ]
  },
  {
   "attachments": {},
   "cell_type": "markdown",
   "metadata": {},
   "source": [
    "## Adjust here:"
   ]
  },
  {
   "cell_type": "code",
   "execution_count": null,
   "metadata": {},
   "outputs": [],
   "source": [
    "TIME_DEVIDER = \"@@-\"\n",
    "TOKEN_DEVIDER = \"|@-\"\n",
    "TAG_DEVIDER = \",@-\"\n",
    "\n",
    "ID = \"Mitsubishi\"\n",
    "\n",
    "WORKERS_N = 4\n",
    "\n",
    "text_file = \"TextData/PantipTextData_%s.txt\"%ID\n",
    "tag_file = \"Tag/PantipTag_%s.txt\"%ID"
   ]
  },
  {
   "attachments": {},
   "cell_type": "markdown",
   "metadata": {},
   "source": [
    "Spell correction is comment outed because of speed issue"
   ]
  },
  {
   "cell_type": "code",
   "execution_count": null,
   "metadata": {},
   "outputs": [],
   "source": [
    "#Data of each line(=post)\n",
    "#usage: construct \"Post(LINE)\", calculation automated\n",
    "#       to_string() to get string result\n",
    "class Post:\n",
    "    time = \"\"\n",
    "    original_content = \"\"\n",
    "    \n",
    "    #normalized + spellchecked\n",
    "    fixed_content = \"\"\n",
    "\n",
    "    tagged = []\n",
    "\n",
    "    conflicted = False\n",
    "\n",
    "    #read line\n",
    "    def __init__(self, line):\n",
    "        #process line\n",
    "        split = line.split(TIME_DEVIDER)\n",
    "        self.time = split[0]\n",
    "        self.original_content = TIME_DEVIDER.join(split[1:]).replace(\"\\n\", \"\") #revert original time_devider + get rid of new-line-letter\n",
    "\n",
    "        self.fix()\n",
    "\n",
    "        if self.has_conflict():\n",
    "            return\n",
    "\n",
    "        self.tag()\n",
    "\n",
    "    def fix(self):\n",
    "        #normalize\n",
    "        self.fixed_content = normalize(self.original_content)\n",
    "\n",
    "        # ##spell correction\n",
    "        # #collapse text\n",
    "        # word_list = word_tokenize(self.fixed_content)\n",
    "        # fixed_list = []\n",
    "        \n",
    "        # #correct each word\n",
    "        # for word in word_list:\n",
    "        #     fixed_list.append(correct(word))\n",
    "\n",
    "        # #merge\n",
    "        # self.fixed_content = \"\".join(fixed_list)\n",
    "\n",
    "    #check if text conflicts with devider letters\n",
    "    def has_conflict(self):\n",
    "        if (TOKEN_DEVIDER in self.fixed_content) | (TAG_DEVIDER in self.fixed_content):\n",
    "            self.conflicted = True\n",
    "            print(\"WORNING: devider CONFLICTION; \"+self.original_content)\n",
    "            return True\n",
    "        \n",
    "        return False\n",
    "\n",
    "    def tag(self):\n",
    "        ner = NER(\"thainer\")\n",
    "        self.tagged = ner.tag(self.fixed_content)\n",
    "\n",
    "    #format : (time)@@@(word),(tag),(IBO)\n",
    "    def to_string(self):\n",
    "        if self.conflicted:\n",
    "            return \"\"\n",
    "\n",
    "        #time\n",
    "        result = self.time\n",
    "        result += TIME_DEVIDER\n",
    "\n",
    "        #each token\n",
    "        first = True\n",
    "        for token in self.tagged:\n",
    "            #first token don't need devider\n",
    "            if first:\n",
    "                first = False\n",
    "            else:\n",
    "                result += TOKEN_DEVIDER\n",
    "            \n",
    "            #text\n",
    "            result += token[0]\n",
    "            result += TAG_DEVIDER\n",
    "\n",
    "            #tag\n",
    "            result += token[1]\n",
    "            result += TAG_DEVIDER\n",
    "\n",
    "            #BIO\n",
    "            result += token[2]\n",
    "\n",
    "        return result"
   ]
  },
  {
   "cell_type": "code",
   "execution_count": null,
   "metadata": {},
   "outputs": [],
   "source": [
    "def process(line):\n",
    "    global fw, processed, write_lock\n",
    "\n",
    "    post = Post(line)\n",
    "\n",
    "    with write_lock:\n",
    "        fw.write(post.to_string() + \"\\n\")\n",
    "\n",
    "    ##show progress\n",
    "    processed += 1\n",
    "    if processed % 100000 == 0:\n",
    "        print(processed)"
   ]
  },
  {
   "cell_type": "code",
   "execution_count": null,
   "metadata": {},
   "outputs": [],
   "source": [
    "#read\n",
    "f = open(text_file, \"r\", encoding=\"utf-8\")\n",
    "\n",
    "#write\n",
    "fw = open(tag_file, \"w\", encoding=\"utf-8\")\n",
    "\n",
    "#process data\n",
    "processed = 0\n",
    "line = True\n",
    "future_list = []\n",
    "write_lock = Lock()\n",
    "with futures.ThreadPoolExecutor(max_workers=WORKERS_N) as executor:\n",
    "    while line:\n",
    "        try:\n",
    "            line = f.readline()\n",
    "\n",
    "            #rid of exceeding\n",
    "            if line == \"\":\n",
    "                continue\n",
    "\n",
    "            #register to future\n",
    "            future = executor.submit(process, line=line)\n",
    "            future_list.append(future)\n",
    "\n",
    "        except:\n",
    "            #skip decode-error row\n",
    "            pass    \n",
    "\n",
    "    #wait until finish\n",
    "    _ = futures.as_completed(fs=future_list)\n",
    "\n",
    "f.close()\n",
    "fw.close()"
   ]
  }
 ],
 "metadata": {
  "kernelspec": {
   "display_name": "Python 3",
   "language": "python",
   "name": "python3"
  },
  "language_info": {
   "codemirror_mode": {
    "name": "ipython",
    "version": 3
   },
   "file_extension": ".py",
   "mimetype": "text/x-python",
   "name": "python",
   "nbconvert_exporter": "python",
   "pygments_lexer": "ipython3",
   "version": "3.11.0 (main, Oct 24 2022, 18:26:48) [MSC v.1933 64 bit (AMD64)]"
  },
  "orig_nbformat": 4,
  "vscode": {
   "interpreter": {
    "hash": "f18876ba008b8f03c8db473942efc120a13a06fe3a8b9090651dfef4dd2a9267"
   }
  }
 },
 "nbformat": 4,
 "nbformat_minor": 2
}
