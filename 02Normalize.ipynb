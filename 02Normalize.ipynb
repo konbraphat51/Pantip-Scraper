{
 "cells": [
  {
   "attachments": {},
   "cell_type": "markdown",
   "metadata": {},
   "source": [
    "## Erace duplicates\n",
    "\n",
    "Edit \"id\""
   ]
  },
  {
   "cell_type": "code",
   "execution_count": 44,
   "metadata": {},
   "outputs": [],
   "source": [
    "id = \"Mitsubishi\"\n",
    "\n",
    "file_path = \"Link/PantipLink_%s.txt\"%id\n",
    "new_file_path = \"Link/PantipLink_%s.txt\"%id"
   ]
  },
  {
   "cell_type": "code",
   "execution_count": 45,
   "metadata": {},
   "outputs": [],
   "source": [
    "#make list of origin file\n",
    "\n",
    "f = open(file_path, \"r\", encoding=\"utf-8\")\n",
    "\n",
    "texts = []\n",
    "line = True\n",
    "while line:\n",
    "    try:\n",
    "        line = f.readline()\n",
    "\n",
    "        #get rid of empty\n",
    "        if line == \"\":\n",
    "            continue\n",
    "\n",
    "        texts.append(line)\n",
    "\n",
    "    except:\n",
    "        #skip decode-error row\n",
    "        pass\n",
    "\n",
    "f.close()"
   ]
  },
  {
   "cell_type": "code",
   "execution_count": 46,
   "metadata": {},
   "outputs": [],
   "source": [
    "#rid duplicates\n",
    "texts = set(texts)"
   ]
  },
  {
   "cell_type": "code",
   "execution_count": 47,
   "metadata": {},
   "outputs": [],
   "source": [
    "#save\n",
    "f = open(new_file_path, \"w\", encoding=\"utf-8\")\n",
    "for text in texts:\n",
    "    f.write(text)\n",
    "f.close()"
   ]
  }
 ],
 "metadata": {
  "kernelspec": {
   "display_name": "base",
   "language": "python",
   "name": "python3"
  },
  "language_info": {
   "codemirror_mode": {
    "name": "ipython",
    "version": 3
   },
   "file_extension": ".py",
   "mimetype": "text/x-python",
   "name": "python",
   "nbconvert_exporter": "python",
   "pygments_lexer": "ipython3",
   "version": "3.9.15 (main, Nov 24 2022, 14:39:17) [MSC v.1916 64 bit (AMD64)]"
  },
  "orig_nbformat": 4,
  "vscode": {
   "interpreter": {
    "hash": "7ccdf6fa2fe9851812a686c56b7994b1ea39ca8a45af3f74f45e3d9b9ebb2838"
   }
  }
 },
 "nbformat": 4,
 "nbformat_minor": 2
}
